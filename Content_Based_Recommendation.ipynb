{
 "cells": [
  {
   "cell_type": "markdown",
   "metadata": {},
   "source": [
    "# Simple Content-Based Recommendation"
   ]
  },
  {
   "cell_type": "code",
   "execution_count": 22,
   "metadata": {},
   "outputs": [],
   "source": [
    "# Import Required Libraries\n",
    "import pandas as pd\n",
    "from sklearn.feature_extraction.text import TfidfVectorizer\n",
    "from sklearn.metrics.pairwise import cosine_similarity\n",
    "from IPython.display import display, clear_output"
   ]
  },
  {
   "cell_type": "markdown",
   "metadata": {},
   "source": [
    "#### 1. Dataset\n",
    "\n",
    "    Dataset Use : Top 250 Indian movies IMDB \n",
    "\n",
    "Link to download - *https://www.kaggle.com/datasets/khushipitroda/top-250-indian-movies-imdb*"
   ]
  },
  {
   "cell_type": "code",
   "execution_count": 23,
   "metadata": {},
   "outputs": [
    {
     "data": {
      "text/html": [
       "<div>\n",
       "<style scoped>\n",
       "    .dataframe tbody tr th:only-of-type {\n",
       "        vertical-align: middle;\n",
       "    }\n",
       "\n",
       "    .dataframe tbody tr th {\n",
       "        vertical-align: top;\n",
       "    }\n",
       "\n",
       "    .dataframe thead th {\n",
       "        text-align: right;\n",
       "    }\n",
       "</style>\n",
       "<table border=\"1\" class=\"dataframe\">\n",
       "  <thead>\n",
       "    <tr style=\"text-align: right;\">\n",
       "      <th></th>\n",
       "      <th>Unnamed: 0</th>\n",
       "      <th>Rank</th>\n",
       "      <th>Movie Names</th>\n",
       "      <th>Links</th>\n",
       "      <th>Rating</th>\n",
       "      <th>Year</th>\n",
       "      <th>Duration_of_movie</th>\n",
       "      <th>Genere</th>\n",
       "      <th>Description</th>\n",
       "    </tr>\n",
       "  </thead>\n",
       "  <tbody>\n",
       "    <tr>\n",
       "      <th>0</th>\n",
       "      <td>0</td>\n",
       "      <td>1</td>\n",
       "      <td>Ramayana: The Legend of Prince Rama</td>\n",
       "      <td>https://www.imdb.com//title/tt0259534/?ref_=fe...</td>\n",
       "      <td>9.2</td>\n",
       "      <td>1993</td>\n",
       "      <td>PG</td>\n",
       "      <td>Animation,Action,Adventure,Back to top</td>\n",
       "      <td>An anime adaptation of the Hindu epic the Rama...</td>\n",
       "    </tr>\n",
       "    <tr>\n",
       "      <th>1</th>\n",
       "      <td>1</td>\n",
       "      <td>2</td>\n",
       "      <td>Rocketry: The Nambi Effect</td>\n",
       "      <td>https://www.imdb.com//title/tt9263550/?ref_=fe...</td>\n",
       "      <td>8.7</td>\n",
       "      <td>2022</td>\n",
       "      <td>2h 37m</td>\n",
       "      <td>Biography,Drama,Back to top</td>\n",
       "      <td>Based on the life of Indian Space Research Org...</td>\n",
       "    </tr>\n",
       "    <tr>\n",
       "      <th>2</th>\n",
       "      <td>2</td>\n",
       "      <td>3</td>\n",
       "      <td>Nayakan</td>\n",
       "      <td>https://www.imdb.com//title/tt0093603/?ref_=fe...</td>\n",
       "      <td>8.6</td>\n",
       "      <td>1987</td>\n",
       "      <td>Not Rated</td>\n",
       "      <td>Crime,Drama,Back to top</td>\n",
       "      <td>A common man's struggles against a corrupt pol...</td>\n",
       "    </tr>\n",
       "    <tr>\n",
       "      <th>3</th>\n",
       "      <td>3</td>\n",
       "      <td>4</td>\n",
       "      <td>Gol Maal</td>\n",
       "      <td>https://www.imdb.com//title/tt0079221/?ref_=fe...</td>\n",
       "      <td>8.5</td>\n",
       "      <td>1979</td>\n",
       "      <td>Not Rated</td>\n",
       "      <td>Comedy,Romance,Back to top</td>\n",
       "      <td>A man's simple lie to secure his job escalates...</td>\n",
       "    </tr>\n",
       "    <tr>\n",
       "      <th>4</th>\n",
       "      <td>4</td>\n",
       "      <td>5</td>\n",
       "      <td>Anbe Sivam</td>\n",
       "      <td>https://www.imdb.com//title/tt0367495/?ref_=fe...</td>\n",
       "      <td>8.6</td>\n",
       "      <td>2003</td>\n",
       "      <td>Not Rated</td>\n",
       "      <td>Adventure,Comedy,Drama,Back to top</td>\n",
       "      <td>Two men, one young and arrogant, the other dam...</td>\n",
       "    </tr>\n",
       "  </tbody>\n",
       "</table>\n",
       "</div>"
      ],
      "text/plain": [
       "   Unnamed: 0  Rank                          Movie Names  \\\n",
       "0           0     1  Ramayana: The Legend of Prince Rama   \n",
       "1           1     2           Rocketry: The Nambi Effect   \n",
       "2           2     3                              Nayakan   \n",
       "3           3     4                             Gol Maal   \n",
       "4           4     5                           Anbe Sivam   \n",
       "\n",
       "                                               Links  Rating  Year  \\\n",
       "0  https://www.imdb.com//title/tt0259534/?ref_=fe...     9.2  1993   \n",
       "1  https://www.imdb.com//title/tt9263550/?ref_=fe...     8.7  2022   \n",
       "2  https://www.imdb.com//title/tt0093603/?ref_=fe...     8.6  1987   \n",
       "3  https://www.imdb.com//title/tt0079221/?ref_=fe...     8.5  1979   \n",
       "4  https://www.imdb.com//title/tt0367495/?ref_=fe...     8.6  2003   \n",
       "\n",
       "  Duration_of_movie                                  Genere  \\\n",
       "0                PG  Animation,Action,Adventure,Back to top   \n",
       "1            2h 37m             Biography,Drama,Back to top   \n",
       "2         Not Rated                 Crime,Drama,Back to top   \n",
       "3         Not Rated              Comedy,Romance,Back to top   \n",
       "4         Not Rated      Adventure,Comedy,Drama,Back to top   \n",
       "\n",
       "                                         Description  \n",
       "0  An anime adaptation of the Hindu epic the Rama...  \n",
       "1  Based on the life of Indian Space Research Org...  \n",
       "2  A common man's struggles against a corrupt pol...  \n",
       "3  A man's simple lie to secure his job escalates...  \n",
       "4  Two men, one young and arrogant, the other dam...  "
      ]
     },
     "execution_count": 23,
     "metadata": {},
     "output_type": "execute_result"
    }
   ],
   "source": [
    "# Load and display dataset\n",
    "file_path = \"Dataset/Indian_movies.csv\"\n",
    "movies = pd.read_csv(file_path)\n",
    "movies.head()"
   ]
  },
  {
   "cell_type": "markdown",
   "metadata": {},
   "source": [
    "#### Data Cleaning"
   ]
  },
  {
   "cell_type": "code",
   "execution_count": 24,
   "metadata": {},
   "outputs": [],
   "source": [
    "# Select relevant columns\n",
    "movies = movies[['Movie Names', 'Rating', 'Year', 'Genere', 'Description']]"
   ]
  },
  {
   "cell_type": "code",
   "execution_count": 25,
   "metadata": {},
   "outputs": [
    {
     "data": {
      "text/plain": [
       "Movie Names    0\n",
       "Rating         0\n",
       "Year           0\n",
       "Genere         0\n",
       "Description    0\n",
       "dtype: int64"
      ]
     },
     "execution_count": 25,
     "metadata": {},
     "output_type": "execute_result"
    }
   ],
   "source": [
    "# Check with the with missing values\n",
    "movies.isnull().sum()"
   ]
  },
  {
   "cell_type": "code",
   "execution_count": 28,
   "metadata": {},
   "outputs": [
    {
     "name": "stdout",
     "output_type": "stream",
     "text": [
      "Number of duplicate movie entries: 2\n"
     ]
    }
   ],
   "source": [
    "# Check for duplicate entries and display count\n",
    "duplicate_count = movies.duplicated(subset=['Movie Names']).sum()\n",
    "print(f\"Number of duplicate movie entries: {duplicate_count}\")"
   ]
  },
  {
   "cell_type": "code",
   "execution_count": 29,
   "metadata": {},
   "outputs": [],
   "source": [
    "# Remove duplicates based on 'Movie Names'\n",
    "movies = movies.drop_duplicates(subset=['Movie Names'])"
   ]
  },
  {
   "cell_type": "code",
   "execution_count": 30,
   "metadata": {},
   "outputs": [],
   "source": [
    "# Remove \",Back to top\" from the 'Genere' column\n",
    "movies['Genere'] = movies['Genere'].str.replace(',Back to top', '', regex=False)"
   ]
  },
  {
   "cell_type": "markdown",
   "metadata": {},
   "source": [
    "#### 2. Approach"
   ]
  },
  {
   "cell_type": "code",
   "execution_count": 31,
   "metadata": {},
   "outputs": [],
   "source": [
    "# Create a combined features column for better similarity matching\n",
    "movies['combined_features'] = movies['Genere'] + ' ' + movies['Year'].astype(str) + ' ' + movies['Rating'].astype(str) + ' ' + movies['Description']"
   ]
  },
  {
   "cell_type": "code",
   "execution_count": 32,
   "metadata": {},
   "outputs": [],
   "source": [
    "# Function to recommend movies based on a text query\n",
    "def recommend_movies(query, movies_df, top_n=5):\n",
    "    \"\"\"\n",
    "    Parameters:\n",
    "    - query (str): The user's movie preference.\n",
    "    - movies_df (DataFrame): The dataframe with movie names and combined features.\n",
    "    - top_n (int): Number of recommendations to return.\n",
    "    \n",
    "    Returns:\n",
    "    - DataFrame: Top N recommended movies with their names, genres, descriptions, and similarity scores.\n",
    "    \"\"\"\n",
    "    # TF-IDF vectorization\n",
    "    vectorizer = TfidfVectorizer(stop_words='english')\n",
    "    tfidf_matrix = vectorizer.fit_transform(movies_df['combined_features'])\n",
    "    query_vector = vectorizer.transform([query])\n",
    "\n",
    "    # Calculate cosine similarity between query and movie combined features\n",
    "    cosine_sim = cosine_similarity(query_vector, tfidf_matrix).flatten()\n",
    "\n",
    "    # Get top N similar movies\n",
    "    top_indices = cosine_sim.argsort()[-top_n:][::-1]\n",
    "    top_scores = cosine_sim[top_indices]\n",
    "\n",
    "    # Create a DataFrame for recommendations with similarity scores\n",
    "    recommendations = movies_df.iloc[top_indices].copy()\n",
    "    recommendations['similarity_score'] = top_scores\n",
    "\n",
    "    return recommendations[['Movie Names', 'Genere', 'Year', 'Rating', 'Description', 'similarity_score']].reset_index(drop=True)\n"
   ]
  },
  {
   "cell_type": "markdown",
   "metadata": {},
   "source": [
    "#### 3. Output"
   ]
  },
  {
   "cell_type": "markdown",
   "metadata": {},
   "source": [
    "The while loop continuously prompts the user to enter a movie preference and returns recommendations based on their input. After displaying the results, it asks if the user wants to modify their query. If the user responds with \"yes\" or \"y,\" the loop clears the output and allows them to enter a new query. If they respond with \"no\" or \"n,\" the loop exits, ending the process."
   ]
  },
  {
   "cell_type": "code",
   "execution_count": 33,
   "metadata": {},
   "outputs": [
    {
     "name": "stdout",
     "output_type": "stream",
     "text": [
      "Query: Can I have thriller with some drama for family\n",
      "Top Movie Recommendations:\n"
     ]
    },
    {
     "data": {
      "text/html": [
       "<div>\n",
       "<style scoped>\n",
       "    .dataframe tbody tr th:only-of-type {\n",
       "        vertical-align: middle;\n",
       "    }\n",
       "\n",
       "    .dataframe tbody tr th {\n",
       "        vertical-align: top;\n",
       "    }\n",
       "\n",
       "    .dataframe thead th {\n",
       "        text-align: right;\n",
       "    }\n",
       "</style>\n",
       "<table border=\"1\" class=\"dataframe\">\n",
       "  <thead>\n",
       "    <tr style=\"text-align: right;\">\n",
       "      <th></th>\n",
       "      <th>Movie Names</th>\n",
       "      <th>Genere</th>\n",
       "      <th>Year</th>\n",
       "      <th>Rating</th>\n",
       "      <th>Description</th>\n",
       "      <th>similarity_score</th>\n",
       "    </tr>\n",
       "  </thead>\n",
       "  <tbody>\n",
       "    <tr>\n",
       "      <th>0</th>\n",
       "      <td>Drishyam 2</td>\n",
       "      <td>Crime,Drama,Thriller</td>\n",
       "      <td>2021</td>\n",
       "      <td>8.4</td>\n",
       "      <td>A gripping tale of an investigation and a fami...</td>\n",
       "      <td>0.400691</td>\n",
       "    </tr>\n",
       "    <tr>\n",
       "      <th>1</th>\n",
       "      <td>Drishyam</td>\n",
       "      <td>Crime,Drama,Thriller</td>\n",
       "      <td>2013</td>\n",
       "      <td>8.3</td>\n",
       "      <td>A man goes to extreme lengths to save his fami...</td>\n",
       "      <td>0.393829</td>\n",
       "    </tr>\n",
       "    <tr>\n",
       "      <th>2</th>\n",
       "      <td>Joseph</td>\n",
       "      <td>Crime,Drama,Thriller</td>\n",
       "      <td>2018</td>\n",
       "      <td>8.0</td>\n",
       "      <td>The story develops through the life of four re...</td>\n",
       "      <td>0.290516</td>\n",
       "    </tr>\n",
       "    <tr>\n",
       "      <th>3</th>\n",
       "      <td>Papanasam</td>\n",
       "      <td>Crime,Drama,Thriller</td>\n",
       "      <td>2015</td>\n",
       "      <td>8.4</td>\n",
       "      <td>Desperate measures are taken by a man who trie...</td>\n",
       "      <td>0.247727</td>\n",
       "    </tr>\n",
       "    <tr>\n",
       "      <th>4</th>\n",
       "      <td>Nil Battey Sannata</td>\n",
       "      <td>Drama,Family</td>\n",
       "      <td>2015</td>\n",
       "      <td>8.2</td>\n",
       "      <td>A story about a single woman (a Mom) and dream...</td>\n",
       "      <td>0.221899</td>\n",
       "    </tr>\n",
       "  </tbody>\n",
       "</table>\n",
       "</div>"
      ],
      "text/plain": [
       "          Movie Names                Genere  Year  Rating  \\\n",
       "0          Drishyam 2  Crime,Drama,Thriller  2021     8.4   \n",
       "1            Drishyam  Crime,Drama,Thriller  2013     8.3   \n",
       "2              Joseph  Crime,Drama,Thriller  2018     8.0   \n",
       "3           Papanasam  Crime,Drama,Thriller  2015     8.4   \n",
       "4  Nil Battey Sannata          Drama,Family  2015     8.2   \n",
       "\n",
       "                                         Description  similarity_score  \n",
       "0  A gripping tale of an investigation and a fami...          0.400691  \n",
       "1  A man goes to extreme lengths to save his fami...          0.393829  \n",
       "2  The story develops through the life of four re...          0.290516  \n",
       "3  Desperate measures are taken by a man who trie...          0.247727  \n",
       "4  A story about a single woman (a Mom) and dream...          0.221899  "
      ]
     },
     "metadata": {},
     "output_type": "display_data"
    }
   ],
   "source": [
    "while True:\n",
    "    # Ask user for input\n",
    "    query = input(\"Enter your movie preference: \")\n",
    "    \n",
    "    # Get and display recommendations\n",
    "    recommendations_df = recommend_movies(query, movies)\n",
    "    clear_output(wait=True)\n",
    "    print(\"Query:\", query)\n",
    "    print(\"Top Movie Recommendations:\")\n",
    "    display(recommendations_df)\n",
    "    \n",
    "    # Ask if user wants to edit the query\n",
    "    edit_query = input(\"Do you want to edit the query? (yes/y or no/n): \").strip().lower()\n",
    "    if edit_query not in ['yes', 'y']:\n",
    "        break"
   ]
  }
 ],
 "metadata": {
  "kernelspec": {
   "display_name": ".venv",
   "language": "python",
   "name": "python3"
  },
  "language_info": {
   "codemirror_mode": {
    "name": "ipython",
    "version": 3
   },
   "file_extension": ".py",
   "mimetype": "text/x-python",
   "name": "python",
   "nbconvert_exporter": "python",
   "pygments_lexer": "ipython3",
   "version": "3.12.5"
  }
 },
 "nbformat": 4,
 "nbformat_minor": 2
}
